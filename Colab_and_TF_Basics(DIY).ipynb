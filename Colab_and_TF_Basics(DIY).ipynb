{
  "nbformat": 4,
  "nbformat_minor": 0,
  "metadata": {
    "colab": {
      "name": "Colab and TF Basics (DIY).ipynb",
      "version": "0.3.2",
      "provenance": [],
      "collapsed_sections": [],
      "include_colab_link": true
    },
    "kernelspec": {
      "name": "python3",
      "display_name": "Python 3"
    },
    "accelerator": "GPU"
  },
  "cells": [
    {
      "cell_type": "markdown",
      "metadata": {
        "id": "view-in-github",
        "colab_type": "text"
      },
      "source": [
        "<a href=\"https://colab.research.google.com/github/lleejong/2019-KoreanUNIV-AI/blob/master/Colab_and_TF_Basics(DIY).ipynb\" target=\"_parent\"><img src=\"https://colab.research.google.com/assets/colab-badge.svg\" alt=\"Open In Colab\"/></a>"
      ]
    },
    {
      "metadata": {
        "id": "ysLnw9I4RHsB",
        "colab_type": "text"
      },
      "cell_type": "markdown",
      "source": [
        "# Welcome to Colab!\n",
        "\n",
        "Colab은 클라우드 환경에서 구동되는 Jupyter notebook (ipython notebook) 개발 환경입니다.\n",
        "\n",
        "또한, Colab은 GPU 혹은 TPU 하드웨어 가속을 지원합니다. (일반적으로 GPU 가속이 더 좋은 성능을 보입니다)\n",
        "\n",
        "한 번 시험해볼까요?\n"
      ]
    },
    {
      "metadata": {
        "id": "ACUh03O5RvZu",
        "colab_type": "code",
        "outputId": "f67c2d2b-6e98-450b-eb9f-e1183498af70",
        "colab": {
          "base_uri": "https://localhost:8080/",
          "height": 34
        }
      },
      "cell_type": "code",
      "source": [
        "# Your code here\n",
        "print(\"Hello, Colab!\")"
      ],
      "execution_count": 0,
      "outputs": [
        {
          "output_type": "stream",
          "text": [
            "Hello, Colab!\n"
          ],
          "name": "stdout"
        }
      ]
    },
    {
      "metadata": {
        "id": "GtZbfL7KZGEj",
        "colab_type": "text"
      },
      "cell_type": "markdown",
      "source": [
        "그래프를 그리는 matplotlib와 같은 라이브러리를 이용하여 시각화를 할 수도 있습니다. 이 때, 시각화된 그래프가 환경에 바로 표시됩니다."
      ]
    },
    {
      "metadata": {
        "id": "3sDo2sl3ZRQn",
        "colab_type": "code",
        "outputId": "bb6c5f42-5ad6-4754-e625-c1dd66e9f3c9",
        "colab": {
          "base_uri": "https://localhost:8080/",
          "height": 347
        }
      },
      "cell_type": "code",
      "source": [
        "# Your code here\n",
        "import matplotlib.pyplot as plt\n",
        "import numpy as np\n",
        "\n",
        "x = np.arange(20)\n",
        "y = [x_i +np.random.randn(1) for x_i in x]\n",
        "a, b = np.polyfit(x, y, 1)\n",
        "_ = plt.plot(x,y, 'o', np.arange(20), a*np.arange(20) + b, '-')"
      ],
      "execution_count": 0,
      "outputs": [
        {
          "output_type": "display_data",
          "data": {
            "image/png": "[encoded data removed]",
            "text/plain": [
              "<Figure size 576x396 with 1 Axes>"
            ]
          },
          "metadata": {
            "tags": []
          }
        }
      ]
    },
    {
      "metadata": {
        "id": "pFLo_MO3O4ig",
        "colab_type": "text"
      },
      "cell_type": "markdown",
      "source": [
        "## Shell 사용\n",
        "느낌표(!)로 시작되는 명령줄은 python 대신 shell에서 실행됩니다.\n",
        "이를 활용하여 디렉토리를 생성하거나 (mkdir) python 패키지들을 관리(pip)할 수 있습니다.\n",
        "\n",
        "현재 어떤 패키지들이 설치되어 있는지 확인해볼까요?"
      ]
    },
    {
      "metadata": {
        "id": "NrFr1zlOPeP8",
        "colab_type": "code",
        "outputId": "54bcd935-c7c0-4459-ea5e-443c10ed1bea",
        "colab": {
          "base_uri": "https://localhost:8080/",
          "height": 6018
        }
      },
      "cell_type": "code",
      "source": [
        "# Your code here\n",
        "!pip --version\n",
        "!pip freeze"
      ],
      "execution_count": 0,
      "outputs": [
        {
          "output_type": "stream",
          "text": [
            "pip 19.0.2 from /usr/local/lib/python3.6/dist-packages/pip (python 3.6)\n",
            "absl-py==0.7.0\n",
            "alabaster==0.7.12\n",
            "albumentations==0.1.12\n",
            "altair==2.3.0\n",
            "astor==0.7.1\n",
            "astropy==3.0.5\n",
            "atari-py==0.1.7\n",
            "atomicwrites==1.3.0\n",
            "attrs==18.2.0\n",
            "audioread==2.1.6\n",
            "autograd==1.2\n",
            "Babel==2.6.0\n",
            "backports.tempfile==1.0\n",
            "backports.weakref==1.0.post1\n",
            "beautifulsoup4==4.6.3\n",
            "bleach==3.1.0\n",
            "bokeh==1.0.4\n",
            "boto==2.49.0\n",
            "boto3==1.9.95\n",
            "botocore==1.12.95\n",
            "Bottleneck==1.2.1\n",
            "bs4==0.0.1\n",
            "bz2file==0.98\n",
            "cachetools==3.1.0\n",
            "certifi==2018.11.29\n",
            "cffi==1.12.0\n",
            "chainer==5.0.0\n",
            "chardet==3.0.4\n",
            "Click==7.0\n",
            "cloudpickle==0.6.1\n",
            "cmake==3.12.0\n",
            "colorlover==0.3.0\n",
            "community==1.0.0b1\n",
            "contextlib2==0.5.5\n",
            "convertdate==2.1.3\n",
            "coverage==3.7.1\n",
            "coveralls==0.5\n",
            "crcmod==1.7\n",
            "cufflinks==0.14.6\n",
            "cupy-cuda100==5.2.0\n",
            "cvxopt==1.2.3\n",
            "cvxpy==1.0.15\n",
            "cycler==0.10.0\n",
            "cymem==2.0.2\n",
            "Cython==0.29.5\n",
            "cytoolz==0.9.0.1\n",
            "daft==0.0.4\n",
            "dask==0.20.2\n",
            "dataclasses==0.6\n",
            "datascience==0.10.6\n",
            "decorator==4.3.2\n",
            "defusedxml==0.5.0\n",
            "dill==0.2.9\n",
            "distributed==1.25.3\n",
            "Django==2.1.7\n",
            "dlib==19.16.0\n",
            "dm-sonnet==1.23\n",
            "docopt==0.6.2\n",
            "docutils==0.14\n",
            "dopamine-rl==1.0.5\n",
            "easydict==1.9\n",
            "ecos==2.0.7.post1\n",
            "editdistance==0.5.2\n",
            "en-core-web-sm==2.0.0\n",
            "entrypoints==0.3\n",
            "ephem==3.7.6.0\n",
            "et-xmlfile==1.0.1\n",
            "fa2==0.3.5\n",
            "fancyimpute==0.4.2\n",
            "fastai==1.0.45\n",
            "fastcache==1.0.2\n",
            "fastdtw==0.3.2\n",
            "fastprogress==0.1.19\n",
            "fastrlock==0.4\n",
            "fbprophet==0.4.post2\n",
            "featuretools==0.4.1\n",
            "filelock==3.0.10\n",
            "fix-yahoo-finance==0.0.22\n",
            "Flask==1.0.2\n",
            "folium==0.2.1\n",
            "future==0.16.0\n",
            "gast==0.2.2\n",
            "GDAL==2.2.2\n",
            "gdown==3.6.4\n",
            "gensim==3.6.0\n",
            "geographiclib==1.49\n",
            "geopy==1.17.0\n",
            "gevent==1.4.0\n",
            "gin-config==0.1.2\n",
            "glob2==0.6\n",
            "google==2.0.1\n",
            "google-api-core==1.7.0\n",
            "google-api-python-client==1.6.7\n",
            "google-auth==1.4.2\n",
            "google-auth-httplib2==0.0.3\n",
            "google-auth-oauthlib==0.2.0\n",
            "google-cloud-bigquery==1.8.1\n",
            "google-cloud-core==0.29.1\n",
            "google-cloud-language==1.0.2\n",
            "google-cloud-storage==1.13.2\n",
            "google-cloud-translate==1.3.3\n",
            "google-colab==0.0.1a1\n",
            "google-resumable-media==0.3.2\n",
            "googleapis-common-protos==1.5.8\n",
            "googledrivedownloader==0.3\n",
            "graph-nets==1.0.3\n",
            "graphviz==0.10.1\n",
            "greenlet==0.4.15\n",
            "grpcio==1.15.0\n",
            "gspread==3.0.1\n",
            "gspread-dataframe==3.0.2\n",
            "gunicorn==19.9.0\n",
            "gym==0.10.11\n",
            "h5py==2.8.0\n",
            "HeapDict==1.0.0\n",
            "holidays==0.9.9\n",
            "html5lib==1.0.1\n",
            "httpimport==0.5.16\n",
            "httplib2==0.11.3\n",
            "humanize==0.5.1\n",
            "hyperopt==0.1.1\n",
            "ideep4py==2.0.0.post3\n",
            "idna==2.6\n",
            "image==1.5.27\n",
            "imageio==2.4.1\n",
            "imagesize==1.1.0\n",
            "imbalanced-learn==0.4.3\n",
            "imblearn==0.0\n",
            "imgaug==0.2.8\n",
            "imutils==0.5.2\n",
            "inflect==2.1.0\n",
            "intel-openmp==2019.0\n",
            "intervaltree==2.1.0\n",
            "ipykernel==4.6.1\n",
            "ipython==5.5.0\n",
            "ipython-genutils==0.2.0\n",
            "ipython-sql==0.3.9\n",
            "ipywidgets==7.4.2\n",
            "itsdangerous==1.1.0\n",
            "jdcal==1.4\n",
            "jieba==0.39\n",
            "Jinja2==2.10\n",
            "jmespath==0.9.3\n",
            "joblib==0.13.2\n",
            "jpeg4py==0.1.4\n",
            "jsonschema==2.6.0\n",
            "jupyter==1.0.0\n",
            "jupyter-client==5.2.4\n",
            "jupyter-console==6.0.0\n",
            "jupyter-core==4.4.0\n",
            "kaggle==1.5.2\n",
            "kapre==0.1.3.1\n",
            "Keras==2.2.4\n",
            "Keras-Applications==1.0.7\n",
            "Keras-Preprocessing==1.0.9\n",
            "keras-vis==0.4.1\n",
            "kiwisolver==1.0.1\n",
            "knnimpute==0.1.0\n",
            "librosa==0.6.3\n",
            "lightgbm==2.2.3\n",
            "llvmlite==0.27.1\n",
            "lmdb==0.94\n",
            "lucid==0.3.8\n",
            "lunardate==0.2.0\n",
            "lxml==4.2.6\n",
            "magenta==0.3.19\n",
            "Markdown==3.0.1\n",
            "MarkupSafe==1.1.0\n",
            "matplotlib==3.0.2\n",
            "matplotlib-venn==0.11.5\n",
            "mesh-tensorflow==0.0.5\n",
            "mido==1.2.6\n",
            "mir-eval==0.5\n",
            "missingno==0.4.1\n",
            "mistune==0.8.4\n",
            "mkl==2019.0\n",
            "mlxtend==0.14.0\n",
            "mock==2.0.0\n",
            "more-itertools==6.0.0\n",
            "moviepy==0.2.3.5\n",
            "mpi4py==3.0.1\n",
            "mpmath==1.1.0\n",
            "msgpack==0.5.6\n",
            "msgpack-numpy==0.4.3.2\n",
            "multiprocess==0.70.7\n",
            "multitasking==0.0.7\n",
            "murmurhash==1.0.1\n",
            "music21==5.5.0\n",
            "natsort==5.5.0\n",
            "nbconvert==5.4.1\n",
            "nbformat==4.4.0\n",
            "networkx==2.2\n",
            "nibabel==2.3.3\n",
            "nltk==3.2.5\n",
            "nose==1.3.7\n",
            "notebook==5.2.2\n",
            "np-utils==0.5.9.0\n",
            "numba==0.40.1\n",
            "numexpr==2.6.9\n",
            "numpy==1.14.6\n",
            "nvidia-ml-py3==7.352.0\n",
            "oauth2client==4.1.3\n",
            "oauthlib==3.0.1\n",
            "okgrade==0.4.3\n",
            "olefile==0.46\n",
            "opencv-contrib-python==3.4.3.18\n",
            "opencv-python==3.4.5.20\n",
            "openpyxl==2.5.9\n",
            "osqp==0.5.0\n",
            "packaging==19.0\n",
            "pandas==0.22.0\n",
            "pandas-datareader==0.7.0\n",
            "pandas-gbq==0.4.1\n",
            "pandas-profiling==1.4.1\n",
            "pandocfilters==1.4.2\n",
            "pathlib==1.0.1\n",
            "patsy==0.5.1\n",
            "pbr==5.1.2\n",
            "pexpect==4.6.0\n",
            "pickleshare==0.7.5\n",
            "Pillow==4.0.0\n",
            "plac==0.9.6\n",
            "plotly==3.6.1\n",
            "pluggy==0.8.1\n",
            "portpicker==1.2.0\n",
            "prefetch-generator==1.0.1\n",
            "preshed==2.0.1\n",
            "pretty-midi==0.2.8\n",
            "prettytable==0.7.2\n",
            "progressbar2==3.38.0\n",
            "promise==2.2.1\n",
            "prompt-toolkit==1.0.15\n",
            "protobuf==3.6.1\n",
            "psutil==5.4.8\n",
            "psycopg2==2.7.6.1\n",
            "ptyprocess==0.6.0\n",
            "py==1.7.0\n",
            "pyasn1==0.4.5\n",
            "pyasn1-modules==0.2.4\n",
            "pycocotools==2.0.0\n",
            "pycparser==2.19\n",
            "pydot==1.3.0\n",
            "pydot-ng==2.0.0\n",
            "pydotplus==2.0.2\n",
            "pyemd==0.5.1\n",
            "pyglet==1.3.2\n",
            "Pygments==2.1.3\n",
            "pygobject==3.26.1\n",
            "pymc3==3.6\n",
            "pymongo==3.7.2\n",
            "pymystem3==0.2.0\n",
            "PyOpenGL==3.1.0\n",
            "pyparsing==2.3.1\n",
            "pysndfile==1.3.2\n",
            "PySocks==1.6.8\n",
            "pystache==0.5.4\n",
            "pystan==2.18.1.0\n",
            "pytest==3.10.1\n",
            "python-apt==1.6.3+ubuntu1\n",
            "python-chess==0.23.11\n",
            "python-dateutil==2.5.3\n",
            "python-louvain==0.13\n",
            "python-rtmidi==1.2.1\n",
            "python-slugify==2.0.1\n",
            "python-utils==2.3.0\n",
            "pytz==2018.9\n",
            "PyWavelets==1.0.1\n",
            "PyYAML==3.13\n",
            "pyzmq==17.0.0\n",
            "qtconsole==4.4.3\n",
            "regex==2018.1.10\n",
            "requests==2.18.4\n",
            "requests-oauthlib==1.2.0\n",
            "resampy==0.2.1\n",
            "retrying==1.3.3\n",
            "rpy2==2.9.5\n",
            "rsa==4.0\n",
            "s3fs==0.2.0\n",
            "s3transfer==0.2.0\n",
            "scikit-image==0.13.1\n",
            "scikit-learn==0.20.2\n",
            "scipy==1.1.0\n",
            "screen-resolution-extra==0.0.0\n",
            "scs==2.0.2\n",
            "seaborn==0.7.1\n",
            "setuptools-git==1.2\n",
            "Shapely==1.6.4.post2\n",
            "simplegeneric==0.8.1\n",
            "six==1.11.0\n",
            "sklearn==0.0\n",
            "smart-open==1.8.0\n",
            "snowballstemmer==1.2.1\n",
            "sortedcontainers==2.1.0\n",
            "spacy==2.0.18\n",
            "Sphinx==1.8.4\n",
            "sphinxcontrib-websupport==1.1.0\n",
            "SQLAlchemy==1.2.17\n",
            "sqlparse==0.2.4\n",
            "stable-baselines==2.2.1\n",
            "statsmodels==0.8.0\n",
            "sympy==1.1.1\n",
            "tables==3.4.4\n",
            "tabulate==0.8.3\n",
            "tblib==1.3.2\n",
            "tensor2tensor==1.11.0\n",
            "tensorboard==1.12.2\n",
            "tensorboardcolab==0.0.22\n",
            "tensorflow==1.13.0rc1\n",
            "tensorflow-estimator==1.13.0rc0\n",
            "tensorflow-hub==0.2.0\n",
            "tensorflow-metadata==0.9.0\n",
            "tensorflow-probability==0.5.0\n",
            "termcolor==1.1.0\n",
            "terminado==0.8.1\n",
            "testpath==0.4.2\n",
            "textblob==0.15.2\n",
            "textgenrnn==1.4.1\n",
            "tfds-nightly==1.0.0.dev201902150105\n",
            "tflearn==0.3.2\n",
            "Theano==1.0.4\n",
            "thinc==6.12.1\n",
            "toolz==0.9.0\n",
            "torch==1.0.1.post2\n",
            "torchsummary==1.5.1\n",
            "torchtext==0.3.1\n",
            "torchvision==0.2.1\n",
            "tornado==4.5.3\n",
            "tqdm==4.28.1\n",
            "traitlets==4.3.2\n",
            "tweepy==3.6.0\n",
            "typing==3.6.6\n",
            "tzlocal==1.5.1\n",
            "ujson==1.35\n",
            "umap-learn==0.3.7\n",
            "Unidecode==1.0.23\n",
            "uritemplate==3.0.0\n",
            "urllib3==1.22\n",
            "vega-datasets==0.7.0\n",
            "wcwidth==0.1.7\n",
            "webencodings==0.5.1\n",
            "Werkzeug==0.14.1\n",
            "widgetsnbextension==3.4.2\n",
            "wordcloud==1.5.0\n",
            "wrapt==1.11.1\n",
            "xarray==0.11.3\n",
            "xgboost==0.7.post4\n",
            "xkit==0.0.0\n",
            "xlrd==1.1.0\n",
            "xlwt==1.3.0\n",
            "yellowbrick==0.9.1\n",
            "zict==0.1.3\n",
            "zmq==0.0.0\n"
          ],
          "name": "stdout"
        }
      ]
    },
    {
      "metadata": {
        "id": "Tpf114AEPtgS",
        "colab_type": "text"
      },
      "cell_type": "markdown",
      "source": [
        "'pip install' 명령어를 이용하여 새로운 패키지를 설치할 수 있습니다."
      ]
    },
    {
      "metadata": {
        "id": "33jOzxLiPzY_",
        "colab_type": "code",
        "outputId": "3c9392c8-5a22-4247-9722-3df7ed7a47b2",
        "colab": {
          "base_uri": "https://localhost:8080/",
          "height": 216
        }
      },
      "cell_type": "code",
      "source": [
        "# Your code here\n",
        "!pip install matplotlib_venn"
      ],
      "execution_count": 0,
      "outputs": [
        {
          "output_type": "stream",
          "text": [
            "Requirement already satisfied: matplotlib_venn in /usr/local/lib/python3.6/dist-packages (0.11.5)\n",
            "Requirement already satisfied: matplotlib in /usr/local/lib/python3.6/dist-packages (from matplotlib_venn) (3.0.2)\n",
            "Requirement already satisfied: numpy in /usr/local/lib/python3.6/dist-packages (from matplotlib_venn) (1.14.6)\n",
            "Requirement already satisfied: scipy in /usr/local/lib/python3.6/dist-packages (from matplotlib_venn) (1.1.0)\n",
            "Requirement already satisfied: python-dateutil>=2.1 in /usr/local/lib/python3.6/dist-packages (from matplotlib->matplotlib_venn) (2.5.3)\n",
            "Requirement already satisfied: kiwisolver>=1.0.1 in /usr/local/lib/python3.6/dist-packages (from matplotlib->matplotlib_venn) (1.0.1)\n",
            "Requirement already satisfied: cycler>=0.10 in /usr/local/lib/python3.6/dist-packages (from matplotlib->matplotlib_venn) (0.10.0)\n",
            "Requirement already satisfied: pyparsing!=2.0.4,!=2.1.2,!=2.1.6,>=2.0.1 in /usr/local/lib/python3.6/dist-packages (from matplotlib->matplotlib_venn) (2.3.1)\n",
            "Requirement already satisfied: six>=1.5 in /usr/local/lib/python3.6/dist-packages (from python-dateutil>=2.1->matplotlib->matplotlib_venn) (1.11.0)\n",
            "Requirement already satisfied: setuptools in /usr/local/lib/python3.6/dist-packages (from kiwisolver>=1.0.1->matplotlib->matplotlib_venn) (40.8.0)\n"
          ],
          "name": "stdout"
        }
      ]
    },
    {
      "metadata": {
        "id": "Dm2A1p6OZcs1",
        "colab_type": "code",
        "outputId": "d4ec502a-af71-4815-b38c-0be356e72888",
        "colab": {
          "base_uri": "https://localhost:8080/",
          "height": 330
        }
      },
      "cell_type": "code",
      "source": [
        "# Your code here\n",
        "from matplotlib_venn import venn2\n",
        "_ = venn2(subsets = (3,2,1))"
      ],
      "execution_count": 0,
      "outputs": [
        {
          "output_type": "display_data",
          "data": {
            "image/png": "[encoded data removed]",
            "text/plain": [
              "<Figure size 576x396 with 1 Axes>"
            ]
          },
          "metadata": {
            "tags": []
          }
        }
      ]
    },
    {
      "metadata": {
        "id": "en4On5z2L55l",
        "colab_type": "text"
      },
      "cell_type": "markdown",
      "source": [
        "# TensorFlow Basics\n"
      ]
    },
    {
      "metadata": {
        "id": "t_rSPPeuVdF3",
        "colab_type": "text"
      },
      "cell_type": "markdown",
      "source": [
        "TensorFlow는 정적 그래프를 바탕으로 동작합니다. 이는 매 계산 시 동일한 계산 과정을 수행한다는 의미입니다. TensorFlow에서 동적 그래프의 사용은 아직 실험적입니다.\n",
        "\n",
        "따라서 TensorFlow의 사용은 크게 두 단계로 진행됩니다.\n",
        "\n",
        "1.   그래프 생성 – 변수와 계산 과정을 정의\n",
        "2.   데이터를 입력하여 그래프에 따라 계산 수행\n",
        "\n",
        "1단계는 메소드를 정의하는 것으로, 그리고 2단계는 정의된 메소드에 값을 주고 실제 계산을 수행하는 것으로 이해할 수 있습니다.\n",
        "\n",
        "예를 들어, python으로 두 숫자를 입력 받아 그 합계를 반환하는 다음 함수를 볼까요?\n",
        "\n"
      ]
    },
    {
      "metadata": {
        "id": "WxpTky0cWAhp",
        "colab_type": "code",
        "colab": {}
      },
      "cell_type": "code",
      "source": [
        "# Your code here\n",
        "def add( a, b):\n",
        "  c = a + b\n",
        "  return c"
      ],
      "execution_count": 0,
      "outputs": []
    },
    {
      "metadata": {
        "id": "ORAjjcQSWMdY",
        "colab_type": "text"
      },
      "cell_type": "markdown",
      "source": [
        "여기서 'add' 메소드는 계산 과정을 정의한 것이므로 값을 주고 계산을 실행하기 전까지는 아무런 일도 수행하지 않습니다."
      ]
    },
    {
      "metadata": {
        "id": "1G-4znOPWITE",
        "colab_type": "code",
        "outputId": "d812c8b5-9a2a-4593-f7d7-afa077f88667",
        "colab": {
          "base_uri": "https://localhost:8080/",
          "height": 34
        }
      },
      "cell_type": "code",
      "source": [
        "# Your code here\n",
        "print(add)"
      ],
      "execution_count": 0,
      "outputs": [
        {
          "output_type": "stream",
          "text": [
            "<function add at 0x7f2f35781730>\n"
          ],
          "name": "stdout"
        }
      ]
    },
    {
      "metadata": {
        "id": "nNYsTLghWj_i",
        "colab_type": "text"
      },
      "cell_type": "markdown",
      "source": [
        "메소드를 사용하기 위해서는 다음과 같이 값을 입력으로 주고 실행하는 과정이 필요합니다."
      ]
    },
    {
      "metadata": {
        "id": "NRCPmonnWpM9",
        "colab_type": "code",
        "outputId": "c52815c1-80ae-403c-ec39-bbc7827d880e",
        "colab": {
          "base_uri": "https://localhost:8080/",
          "height": 34
        }
      },
      "cell_type": "code",
      "source": [
        "# Your code here\n",
        "print(add(123,45))"
      ],
      "execution_count": 0,
      "outputs": [
        {
          "output_type": "stream",
          "text": [
            "168\n"
          ],
          "name": "stdout"
        }
      ]
    },
    {
      "metadata": {
        "id": "qqQsjE6oWw5c",
        "colab_type": "text"
      },
      "cell_type": "markdown",
      "source": [
        "TensorFlow에서 그래프를 제작하는 것은 메소드를 정의하는 것과 유사합니다.\n",
        "\n",
        "이번에는 앞서 정의한 'add'메소드와 동일한 역할을 수행하는 계산 그래프를 TensorFlow를 이용하여 제작해봅시다. (1단계)"
      ]
    },
    {
      "metadata": {
        "id": "dz90XTapBJWD",
        "colab_type": "code",
        "outputId": "2b7e6dcc-632e-4b74-e0f3-fc2b9521f2a6",
        "colab": {
          "base_uri": "https://localhost:8080/",
          "height": 34
        }
      },
      "cell_type": "code",
      "source": [
        "# Your code here\n",
        "import tensorflow as tf\n",
        "print(tf.__version__)"
      ],
      "execution_count": 0,
      "outputs": [
        {
          "output_type": "stream",
          "text": [
            "1.13.0-rc1\n"
          ],
          "name": "stdout"
        }
      ]
    },
    {
      "metadata": {
        "id": "8Uaf7wyWW_e1",
        "colab_type": "code",
        "outputId": "9ffcb899-d80e-477c-faa6-18895d43e9a7",
        "colab": {
          "base_uri": "https://localhost:8080/",
          "height": 346
        }
      },
      "cell_type": "code",
      "source": [
        "# Your code here\n",
        "\n",
        "a = tf.placeholder(tf.int32)\n",
        "b = tf.placeholder(tf.int32)\n",
        "\n",
        "b= tf.Print(b, [b])\n",
        "\n",
        "add = tf.add(a, b)"
      ],
      "execution_count": 0,
      "outputs": [
        {
          "output_type": "stream",
          "text": [
            "WARNING:tensorflow:From <ipython-input-22-d8625a520369>:5: Print (from tensorflow.python.ops.logging_ops) is deprecated and will be removed after 2018-08-20.\n",
            "Instructions for updating:\n",
            "Use tf.print instead of tf.Print. Note that tf.print returns a no-output operator that directly prints the output. Outside of defuns or eager mode, this operator will not be executed unless it is directly specified in session.run or used as a control dependency for other operators. This is only a concern in graph mode. Below is an example of how to ensure tf.print executes in graph mode:\n",
            "```python\n",
            "    sess = tf.Session()\n",
            "    with sess.as_default():\n",
            "        tensor = tf.range(10)\n",
            "        print_op = tf.print(tensor)\n",
            "        with tf.control_dependencies([print_op]):\n",
            "          out = tf.add(tensor, tensor)\n",
            "        sess.run(out)\n",
            "    ```\n",
            "Additionally, to use tf.print in python 2.7, users must make sure to import\n",
            "the following:\n",
            "\n",
            "  `from __future__ import print_function`\n",
            "\n"
          ],
          "name": "stdout"
        }
      ]
    },
    {
      "metadata": {
        "id": "So2XoMfaXtij",
        "colab_type": "text"
      },
      "cell_type": "markdown",
      "source": [
        "앞서 살펴본 python 메소드와 같이, TensorFlow를 이용하여 제작한 'add' 그래프는 그 자체로는 아무런 기능도 수행하지 않습니다."
      ]
    },
    {
      "metadata": {
        "id": "DsnHYA6GXXMO",
        "colab_type": "code",
        "outputId": "7a91a2aa-2386-4968-cf1a-8c3ec6fb42c0",
        "colab": {
          "base_uri": "https://localhost:8080/",
          "height": 34
        }
      },
      "cell_type": "code",
      "source": [
        "# Your code here\n",
        "print(add)"
      ],
      "execution_count": 0,
      "outputs": [
        {
          "output_type": "stream",
          "text": [
            "Tensor(\"Add_2:0\", dtype=int32)\n"
          ],
          "name": "stdout"
        }
      ]
    },
    {
      "metadata": {
        "id": "TbQAGsTOXaCl",
        "colab_type": "text"
      },
      "cell_type": "markdown",
      "source": [
        "해당 그래프를 이용하기 위해서는 아래와 같이 입력값을 주고 계산을 실행해야 합니다. (2단계)"
      ]
    },
    {
      "metadata": {
        "id": "PN2daFHKXvqy",
        "colab_type": "code",
        "outputId": "af925ee3-c26e-4617-98dd-8ad348a9e201",
        "colab": {
          "base_uri": "https://localhost:8080/",
          "height": 34
        }
      },
      "cell_type": "code",
      "source": [
        "# Your code here\n",
        "\n",
        "sess = tf.Session()\n",
        "result = sess.run([add], feed_dict={a : 1, b: 2})[0]\n",
        "print(result)"
      ],
      "execution_count": 0,
      "outputs": [
        {
          "output_type": "stream",
          "text": [
            "3\n"
          ],
          "name": "stdout"
        }
      ]
    }
  ]
}