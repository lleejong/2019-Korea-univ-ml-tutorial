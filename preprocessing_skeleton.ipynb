{
  "nbformat": 4,
  "nbformat_minor": 0,
  "metadata": {
    "colab": {
      "name": "preprocessing_skeleton.ipynb",
      "version": "0.3.2",
      "provenance": [],
      "include_colab_link": true
    },
    "kernelspec": {
      "name": "python3",
      "display_name": "Python 3"
    }
  },
  "cells": [
    {
      "cell_type": "markdown",
      "metadata": {
        "id": "view-in-github",
        "colab_type": "text"
      },
      "source": [
        "<a href=\"https://colab.research.google.com/github/lleejong/2019-KoreanUNIV-AI/blob/master/preprocessing_skeleton.ipynb\" target=\"_parent\"><img src=\"https://colab.research.google.com/assets/colab-badge.svg\" alt=\"Open In Colab\"/></a>"
      ]
    },
    {
      "metadata": {
        "id": "WUmBzjVeDEj-",
        "colab_type": "code",
        "colab": {}
      },
      "cell_type": "code",
      "source": [
        "import copy\n",
        "import math\n",
        "from collections import deque"
      ],
      "execution_count": 0,
      "outputs": []
    },
    {
      "metadata": {
        "id": "jJSJ9XYQDaOy",
        "colab_type": "code",
        "colab": {}
      },
      "cell_type": "code",
      "source": [
        "class Dataset():\n",
        "    def __init__(self):\n",
        "        self.doc_ko = []\n",
        "        self.doc_en = []\n",
        "\n",
        "    def data_load(self):\n",
        "        ''' A '''\n",
        "        ''' data load '''"
      ],
      "execution_count": 0,
      "outputs": []
    },
    {
      "metadata": {
        "id": "j6zwmjRlDcYP",
        "colab_type": "code",
        "colab": {}
      },
      "cell_type": "code",
      "source": [
        "class Shuffle():\n",
        "    '''length-ratio shuffle strategy from Ivan Vulic and Marie-Francine Moens. 2016. ´\n",
        "    Bilingual distributed word representations from\n",
        "    document-aligned comparable data. Journal of Artificial\n",
        "    Intelligence Research, 55:953–994.'''\n",
        "\n",
        "    def __init__(self):\n",
        "        self.doc_ko_token = []\n",
        "        self.doc_en_token = []\n",
        "        self.shuffle_result_list = []\n",
        "\n",
        "    def tokenization(self, doc1, doc2):\n",
        "        ''' B '''\n",
        "        '''doc_ko와 doc_en list에서 각 문장에서 어절 단위로 토큰화'''\n",
        "\n",
        "\n",
        "    def ratio_shuffle(self, token1, token2):\n",
        "        ''' C '''\n",
        "        ''' 각 문장에서 tokenization 결과를 기준으로 length-ratio shuffle 수행'''"
      ],
      "execution_count": 0,
      "outputs": []
    },
    {
      "metadata": {
        "id": "-kFAuQFFDfkP",
        "colab_type": "code",
        "colab": {}
      },
      "cell_type": "code",
      "source": [
        "if __name__ == \"__main__\":\n",
        "    ''' D '''"
      ],
      "execution_count": 0,
      "outputs": []
    }
  ]
}