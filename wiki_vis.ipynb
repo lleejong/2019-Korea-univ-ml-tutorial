{
  "nbformat": 4,
  "nbformat_minor": 0,
  "metadata": {
    "colab": {
      "name": "wiki_vis.ipynb",
      "version": "0.3.2",
      "provenance": [],
      "collapsed_sections": [],
      "include_colab_link": true
    },
    "kernelspec": {
      "name": "python3",
      "display_name": "Python 3"
    }
  },
  "cells": [
    {
      "cell_type": "markdown",
      "metadata": {
        "id": "view-in-github",
        "colab_type": "text"
      },
      "source": [
        "<a href=\"https://colab.research.google.com/github/lleejong/2019-KoreanUNIV-AI/blob/master/wiki_vis.ipynb\" target=\"_parent\"><img src=\"https://colab.research.google.com/assets/colab-badge.svg\" alt=\"Open In Colab\"/></a>"
      ]
    },
    {
      "metadata": {
        "id": "3hKnppVs6vGk",
        "colab_type": "code",
        "colab": {}
      },
      "cell_type": "code",
      "source": [
        "from collections import Counter\n",
        "from gensim.models import Word2Vec\n",
        "import re"
      ],
      "execution_count": 0,
      "outputs": []
    },
    {
      "metadata": {
        "id": "P1R5QeYm_MRf",
        "colab_type": "code",
        "colab": {}
      },
      "cell_type": "code",
      "source": [
        "def main():\n",
        "    model = Word2Vec.load('./sample_data/wiki_en_model')\n",
        "\n",
        "    try:\n",
        "        num_rows = len(model.vocab)\n",
        "    except:\n",
        "        model.vocab = model.wv.vocab\n",
        "        num_rows = len(model.vocab)\n",
        "\n",
        "    dim = model.vector_size\n",
        "\n",
        "    global tensor_out_fn\n",
        "    global labels_out_fn\n",
        "\n",
        "    tensor_out_fn = './sample_data/wiki_en_model_%d_%dd_tensors.tsv' % (num_rows, dim)\n",
        "    labels_out_fn = './sample_data/wiki_en_model_%d_%dd_labels.tsv' % (num_rows, dim)\n",
        "\n",
        "    try:\n",
        "        labels_out = open(labels_out_fn, 'w', encoding='utf-8')\n",
        "    except:\n",
        "        labels_out = open(labels_out_fn, 'w')\n",
        "\n",
        "    labels_out.write('word\\tlanguage\\tcount\\n')\n",
        "    wv_list = []\n",
        "\n",
        "    counter = {}\n",
        "    for wd in model.vocab:\n",
        "        counter[wd] = model.vocab[wd].count\n",
        "    counter = Counter(counter)\n",
        "    common = counter.most_common(5000)\n",
        "    words, _ = zip(*common)\n",
        "\n",
        "    for wd in words:\n",
        "        ww = model[wd].tolist()\n",
        "        assert dim == len(ww)\n",
        "        assert '\\t' not in wd\n",
        "        wv_list.append(ww)\n",
        "\n",
        "        try:\n",
        "            labels_out.write('%s\\t%s\\t%s\\n' % (wd, 'en', model.vocab[wd].count))\n",
        "        except:\n",
        "            labels_out.write(('%s\\t%s\\t%s\\n' % (wd, 'en', model.vocab[wd].count)).encode('utf-8'))\n",
        "\n",
        "    with open(tensor_out_fn, 'w') as fw:\n",
        "        for i in wv_list:\n",
        "            fw.write(\"%s\\n\" % (str(i).replace(', ', '\\t').replace('[', '').replace(']', '')))\n",
        "\n",
        "    labels_out.close()"
      ],
      "execution_count": 0,
      "outputs": []
    },
    {
      "metadata": {
        "id": "D-cnyADZ_Ns4",
        "colab_type": "code",
        "outputId": "4bf2bc87-f718-42dc-bb82-f4017efded1d",
        "colab": {
          "base_uri": "https://localhost:8080/",
          "height": 55
        }
      },
      "cell_type": "code",
      "source": [
        "if __name__ ==\"__main__\":\n",
        "    main()"
      ],
      "execution_count": 0,
      "outputs": [
        {
          "output_type": "stream",
          "text": [
            "/usr/local/lib/python3.6/dist-packages/ipykernel_launcher.py:34: DeprecationWarning: Call to deprecated `__getitem__` (Method will be removed in 4.0.0, use self.wv.__getitem__() instead).\n"
          ],
          "name": "stderr"
        }
      ]
    },
    {
      "metadata": {
        "id": "9gYlIbCrs9es",
        "colab_type": "text"
      },
      "cell_type": "markdown",
      "source": [
        "[Embedding projector](http://projector.tensorflow.org/)\n"
      ]
    },
    {
      "metadata": {
        "id": "huovvtATs5Hh",
        "colab_type": "text"
      },
      "cell_type": "markdown",
      "source": [
        ""
      ]
    }
  ]
}